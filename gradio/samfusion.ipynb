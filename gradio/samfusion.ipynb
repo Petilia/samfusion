{
 "cells": [
  {
   "cell_type": "code",
   "execution_count": 3,
   "metadata": {},
   "outputs": [],
   "source": [
    "import numpy as np\n",
    "from PIL import Image"
   ]
  },
  {
   "cell_type": "code",
   "execution_count": 44,
   "metadata": {},
   "outputs": [
    {
     "data": {
      "text/plain": [
       "(300, 300, 3)"
      ]
     },
     "execution_count": 44,
     "metadata": {},
     "output_type": "execute_result"
    }
   ],
   "source": [
    "mask = np.ones((300, 300, 3)) * 200\n",
    "# mask = mask[0, :, :]\n",
    "mask.shape"
   ]
  },
  {
   "cell_type": "code",
   "execution_count": 45,
   "metadata": {},
   "outputs": [
    {
     "data": {
      "image/jpeg": "[encoded data removed]",
      "image/png": "[encoded data removed]",
      "text/plain": [
       "<PIL.Image.Image image mode=RGB size=300x300>"
      ]
     },
     "metadata": {},
     "output_type": "display_data"
    }
   ],
   "source": [
    "im = Image.fromarray(np.uint8(mask))\n",
    "im.show()"
   ]
  },
  {
   "cell_type": "code",
   "execution_count": 1,
   "metadata": {},
   "outputs": [
    {
     "name": "stderr",
     "output_type": "stream",
     "text": [
      "/usr/local/lib/python3.10/dist-packages/tqdm/auto.py:21: TqdmWarning: IProgress not found. Please update jupyter and ipywidgets. See https://ipywidgets.readthedocs.io/en/stable/user_install.html\n",
      "  from .autonotebook import tqdm as notebook_tqdm\n",
      "The cache for model files in Transformers v4.22.0 has been updated. Migrating your old cache. This is a one-time only operation. You can interrupt this and resume the migration later on by calling `transformers.utils.move_cache()`.\n",
      "0it [00:00, ?it/s]\n"
     ]
    }
   ],
   "source": [
    "from diffusers import DDIMScheduler, StableDiffusionInpaintPipeline\n",
    "import torch"
   ]
  },
  {
   "cell_type": "code",
   "execution_count": 47,
   "metadata": {},
   "outputs": [
    {
     "data": {
      "image/jpeg": "[encoded data removed]",
      "image/png": "[encoded data removed]",
      "text/plain": [
       "<PIL.PngImagePlugin.PngImageFile image mode=L size=512x512>"
      ]
     },
     "metadata": {},
     "output_type": "display_data"
    }
   ],
   "source": [
    "img = Image.open(\"/home/docker_current/samfusion/mask.png\")\n",
    "img.show()"
   ]
  },
  {
   "cell_type": "code",
   "execution_count": 52,
   "metadata": {},
   "outputs": [
    {
     "data": {
      "text/plain": [
       "(512, 512)"
      ]
     },
     "execution_count": 52,
     "metadata": {},
     "output_type": "execute_result"
    }
   ],
   "source": [
    "np.array(img).shape"
   ]
  },
  {
   "cell_type": "code",
   "execution_count": 51,
   "metadata": {},
   "outputs": [
    {
     "data": {
      "text/plain": [
       "array([0, 1], dtype=uint8)"
      ]
     },
     "execution_count": 51,
     "metadata": {},
     "output_type": "execute_result"
    }
   ],
   "source": [
    "np.unique(np.array(img))"
   ]
  },
  {
   "cell_type": "code",
   "execution_count": null,
   "metadata": {},
   "outputs": [],
   "source": [
    "np."
   ]
  },
  {
   "cell_type": "code",
   "execution_count": null,
   "metadata": {},
   "outputs": [],
   "source": []
  },
  {
   "cell_type": "code",
   "execution_count": null,
   "metadata": {},
   "outputs": [],
   "source": []
  },
  {
   "cell_type": "code",
   "execution_count": 2,
   "metadata": {},
   "outputs": [
    {
     "name": "stderr",
     "output_type": "stream",
     "text": [
      "Downloading (…)p16/model_index.json: 100%|██████████| 550/550 [00:00<00:00, 1.16MB/s]\n",
      "vae/diffusion_pytorch_model.safetensors not found\n",
      "Downloading (…)rocessor_config.json: 100%|██████████| 342/342 [00:00<00:00, 316kB/s]\n",
      "Downloading (…)cheduler_config.json: 100%|██████████| 287/287 [00:00<00:00, 480kB/s]\n",
      "\n",
      "\n",
      "\u001b[A\u001b[A\n",
      "Downloading (…)cial_tokens_map.json: 100%|██████████| 472/472 [00:00<00:00, 77.8kB/s]\n",
      "Downloading (…)_encoder/config.json: 100%|██████████| 635/635 [00:00<00:00, 201kB/s]\n",
      "\n",
      "\n",
      "Fetching 13 files:  31%|███       | 4/13 [00:00<00:01,  5.13it/s]\n",
      "Downloading (…)okenizer_config.json: 100%|██████████| 821/821 [00:00<00:00, 2.18MB/s]\n",
      "\n",
      "Downloading (…)6e5/unet/config.json: 100%|██████████| 810/810 [00:00<00:00, 1.35MB/s]\n",
      "\n",
      "\u001b[A\n",
      "\n",
      "\n",
      "Downloading (…)66e5/vae/config.json: 100%|██████████| 613/613 [00:00<00:00, 3.95MB/s]\n",
      "\n",
      "\n",
      "Downloading (…)tokenizer/merges.txt: 100%|██████████| 525k/525k [00:00<00:00, 1.14MB/s]\n",
      "Downloading (…)tokenizer/vocab.json: 100%|██████████| 1.06M/1.06M [00:00<00:00, 2.43MB/s]\n",
      "\n",
      "\n",
      "\u001b[A\u001b[A\n",
      "Fetching 13 files:  31%|███       | 4/13 [00:16<00:01,  5.13it/s]\n",
      "\u001b[A\n",
      "\n",
      "\u001b[A\u001b[A\n",
      "\u001b[A\n",
      "\u001b[A\n",
      "\n",
      "\u001b[A\u001b[A\n",
      "\n",
      "\u001b[A\u001b[A\n",
      "\u001b[A\n",
      "\n",
      "\u001b[A\u001b[A\n",
      "\u001b[A\n",
      "\u001b[A\n",
      "\n",
      "\u001b[A\u001b[A\n",
      "\u001b[A\n",
      "\n",
      "\u001b[A\u001b[A\n",
      "\n",
      "\u001b[A\u001b[A\n",
      "\u001b[A\n",
      "\u001b[A\n",
      "\n",
      "\u001b[A\u001b[A\n",
      "\u001b[A\n",
      "\u001b[A\n",
      "\n",
      "\u001b[A\u001b[A\n",
      "\n",
      "\u001b[A\u001b[A\n",
      "\u001b[A\n",
      "\u001b[A\n",
      "\n",
      "\u001b[A\u001b[A\n",
      "\u001b[A\n",
      "\u001b[A\n",
      "\u001b[A\n",
      "\u001b[A\n",
      "\n",
      "\u001b[A\u001b[A\n",
      "\u001b[A\n",
      "\n",
      "\u001b[A\u001b[A\n",
      "\u001b[A\n",
      "\n",
      "\u001b[A\u001b[A\n",
      "\n",
      "\u001b[A\u001b[A\n",
      "\u001b[A\n",
      "\u001b[A\n",
      "\n",
      "\u001b[A\u001b[A\n",
      "\n",
      "\u001b[A\u001b[A\n",
      "\u001b[A\n",
      "\n",
      "\u001b[A\u001b[A\n",
      "\u001b[A\n",
      "\n",
      "Downloading (…)on_pytorch_model.bin: 100%|██████████| 167M/167M [03:16<00:00, 851kB/s] \n",
      "\n",
      "\u001b[A\n",
      "Downloading pytorch_model.bin: 100%|██████████| 246M/246M [03:24<00:00, 1.21MB/s]\n",
      "Downloading (…)on_pytorch_model.bin: 100%|██████████| 1.72G/1.72G [10:10<00:00, 2.81MB/s]\n",
      "Fetching 13 files: 100%|██████████| 13/13 [10:12<00:00, 47.11s/it]\n",
      "Cannot initialize model with low cpu memory usage because `accelerate` was not found in the environment. Defaulting to `low_cpu_mem_usage=False`. It is strongly recommended to install `accelerate` for faster and less memory-intense model loading. You can do so with: \n",
      "```\n",
      "pip install accelerate\n",
      "```\n",
      ".\n",
      "Loading pipeline components...:   0%|          | 0/6 [00:00<?, ?it/s]/usr/local/lib/python3.10/dist-packages/transformers/models/clip/feature_extraction_clip.py:28: FutureWarning: The class CLIPFeatureExtractor is deprecated and will be removed in version 5 of Transformers. Please use CLIPImageProcessor instead.\n",
      "  warnings.warn(\n",
      "Loading pipeline components...: 100%|██████████| 6/6 [00:11<00:00,  1.98s/it]\n"
     ]
    }
   ],
   "source": [
    "device = \"cuda\"\n",
    "\n",
    "pipe = StableDiffusionInpaintPipeline.from_pretrained(\n",
    "    \"runwayml/stable-diffusion-inpainting\",\n",
    "    requires_safety_checker=False,\n",
    "    safety_checker=None,\n",
    "    revision=\"fp16\",\n",
    "    torch_dtype=torch.float16,\n",
    ").to(device)\n",
    "\n",
    "pipe.scheduler = DDIMScheduler.from_config(pipe.scheduler.config)"
   ]
  },
  {
   "cell_type": "code",
   "execution_count": null,
   "metadata": {},
   "outputs": [],
   "source": []
  },
  {
   "cell_type": "code",
   "execution_count": null,
   "metadata": {},
   "outputs": [],
   "source": []
  },
  {
   "cell_type": "code",
   "execution_count": 1,
   "metadata": {},
   "outputs": [],
   "source": [
    "# %load_ext gradio"
   ]
  },
  {
   "cell_type": "code",
   "execution_count": 2,
   "metadata": {},
   "outputs": [
    {
     "name": "stderr",
     "output_type": "stream",
     "text": [
      "/usr/local/lib/python3.10/dist-packages/tqdm/auto.py:21: TqdmWarning: IProgress not found. Please update jupyter and ipywidgets. See https://ipywidgets.readthedocs.io/en/stable/user_install.html\n",
      "  from .autonotebook import tqdm as notebook_tqdm\n"
     ]
    }
   ],
   "source": [
    "import cv2\n",
    "import gradio as gr\n",
    "import numpy as np\n",
    "import torch\n",
    "from segment_anything import SamPredictor, sam_model_registry\n",
    "\n",
    "MODEL_DICT = dict(\n",
    "    vit_h='https://dl.fbaipublicfiles.com/segment_anything/sam_vit_h_4b8939.pth',  # yapf: disable  # noqa\n",
    "    vit_l='https://dl.fbaipublicfiles.com/segment_anything/sam_vit_l_0b3195.pth',  # yapf: disable  # noqa\n",
    "    vit_b='https://dl.fbaipublicfiles.com/segment_anything/sam_vit_b_01ec64.pth',  # yapf: disable  # noqa\n",
    ")\n",
    "\n",
    "\n",
    "def show_mask(mask: np.ndarray,\n",
    "              image: np.ndarray,\n",
    "              random_color: bool = False) -> np.ndarray:\n",
    "    \"\"\"Visualize a mask on top of an image.\n",
    "\n",
    "    Args:\n",
    "        mask (np.ndarray): A 2D array of shape (H, W).\n",
    "        image (np.ndarray): A 3D array of shape (H, W, 3).\n",
    "        random_color (bool): Whether to use a random color for the mask.\n",
    "    Returns:\n",
    "        np.ndarray: A 3D array of shape (H, W, 3) with the mask\n",
    "        visualized on top of the image.\n",
    "    \"\"\"\n",
    "    if random_color:\n",
    "        color = np.concatenate([np.random.random(3)], axis=0)\n",
    "    else:\n",
    "        color = np.array([30 / 255, 144 / 255, 255 / 255])\n",
    "    h, w = mask.shape[-2:]\n",
    "    mask_image = mask.reshape(h, w, 1) * color.reshape(1, 1, -1) * 255\n",
    "\n",
    "    image = cv2.addWeighted(image, 0.7, mask_image.astype('uint8'), 0.3, 0)\n",
    "    return image\n",
    "\n",
    "\n",
    "def show_points(coords: np.ndarray, labels: np.ndarray,\n",
    "                image: np.ndarray) -> np.ndarray:\n",
    "    \"\"\"Visualize points on top of an image.\n",
    "\n",
    "    Args:\n",
    "        coords (np.ndarray): A 2D array of shape (N, 2).\n",
    "        labels (np.ndarray): A 1D array of shape (N,).\n",
    "        image (np.ndarray): A 3D array of shape (H, W, 3).\n",
    "    Returns:\n",
    "        np.ndarray: A 3D array of shape (H, W, 3) with the points\n",
    "        visualized on top of the image.\n",
    "    \"\"\"\n",
    "    pos_points = coords[labels == 1]\n",
    "    neg_points = coords[labels == 0]\n",
    "    for p in pos_points:\n",
    "        image = cv2.circle(\n",
    "            image, p.astype(int), radius=5, color=(0, 255, 0), thickness=-1)\n",
    "    for p in neg_points:\n",
    "        image = cv2.circle(\n",
    "            image, p.astype(int), radius=5, color=(255, 0, 0), thickness=-1)\n",
    "    return image\n",
    "\n",
    "\n",
    "def setup_model() -> SamPredictor:\n",
    "    \"\"\"Setup the model and predictor.\n",
    "\n",
    "    Returns:\n",
    "        SamPredictor: The predictor.\n",
    "    \"\"\"\n",
    "\n",
    "    model_type = 'vit_b'\n",
    "    device = 'cuda'\n",
    "\n",
    "    sam = sam_model_registry[model_type]()\n",
    "    sam.load_state_dict(torch.utils.model_zoo.load_url(MODEL_DICT[model_type]))\n",
    "    sam.half()\n",
    "    sam.to(device=device)\n",
    "\n",
    "    predictor = SamPredictor(sam)\n",
    "\n",
    "    return predictor"
   ]
  },
  {
   "cell_type": "code",
   "execution_count": 3,
   "metadata": {},
   "outputs": [],
   "source": [
    "predictor = setup_model()"
   ]
  },
  {
   "cell_type": "code",
   "execution_count": 4,
   "metadata": {},
   "outputs": [
    {
     "name": "stdout",
     "output_type": "stream",
     "text": [
      "Running on local URL:  http://127.0.0.1:7860\n",
      "\n",
      "To create a public link, set `share=True` in `launch()`.\n"
     ]
    },
    {
     "data": {
      "text/html": [
       "<div><iframe src=\"http://127.0.0.1:7860/\" width=\"100%\" height=\"500\" allow=\"autoplay; camera; microphone; clipboard-read; clipboard-write;\" frameborder=\"0\" allowfullscreen></iframe></div>"
      ],
      "text/plain": [
       "<IPython.core.display.HTML object>"
      ]
     },
     "metadata": {},
     "output_type": "display_data"
    }
   ],
   "source": [
    "# %%blocks\n",
    "\n",
    "with gr.Blocks() as demo:\n",
    "\n",
    "    # Define the UI\n",
    "    mask_level = gr.Slider(minimum=0, maximum=2, value=1, step=1,\\\n",
    "                           label='Masking level',\n",
    "                           info='(Whole - Part - Subpart) level')\n",
    "    # with gr.Row():\n",
    "    input_img = gr.Image(label='Input')\n",
    "    output_img = gr.Image(label='Selected Segment')\n",
    "\n",
    "    is_positive_box = gr.Checkbox(value=True, label='Positive point')\n",
    "    reset = gr.Button('Reset Points')\n",
    "\n",
    "    # Define the logic\n",
    "    saved_points = []\n",
    "    saved_labels = []\n",
    "\n",
    "    def set_image(img) -> None:\n",
    "        \"\"\"Set the image for the predictor.\"\"\"\n",
    "        with torch.cuda.amp.autocast():\n",
    "            predictor.set_image(img)\n",
    "\n",
    "    def segment_anything(img, mask_level: int, is_positive: bool,\n",
    "                         evt: gr.SelectData):\n",
    "        \"\"\"Segment the selected region.\"\"\"\n",
    "        mask_level = 2 - mask_level\n",
    "        saved_points.append([evt.index[0], evt.index[1]])\n",
    "        saved_labels.append(1 if is_positive else 0)\n",
    "        input_point = np.array(saved_points)\n",
    "        input_label = np.array(saved_labels)\n",
    "\n",
    "        # Predict the mask\n",
    "        with torch.cuda.amp.autocast():\n",
    "            masks, scores, logits = predictor.predict(\n",
    "                point_coords=input_point,\n",
    "                point_labels=input_label,\n",
    "                multimask_output=True,\n",
    "            )\n",
    "        # mask has a shape of [3, h, w]\n",
    "        masks = masks[mask_level:mask_level + 1, ...]\n",
    "\n",
    "        # Visualize the mask\n",
    "        res = show_mask(masks, img)\n",
    "        # Visualize the points\n",
    "        res = show_points(input_point, input_label, res)\n",
    "        return res\n",
    "\n",
    "    def reset_points() -> None:\n",
    "        \"\"\"Reset the points.\"\"\"\n",
    "        global saved_points\n",
    "        global saved_labels\n",
    "        saved_points = []\n",
    "        saved_labels = []\n",
    "\n",
    "    # Connect the UI and logic\n",
    "    input_img.upload(set_image, [input_img])\n",
    "    input_img.select(segment_anything,\n",
    "                     [input_img, mask_level, is_positive_box], output_img)\n",
    "    reset.click(reset_points)\n",
    "\n",
    "if __name__ == '__main__':\n",
    "    demo.launch()\n"
   ]
  },
  {
   "cell_type": "code",
   "execution_count": null,
   "metadata": {},
   "outputs": [],
   "source": []
  }
 ],
 "metadata": {
  "kernelspec": {
   "display_name": "Python 3",
   "language": "python",
   "name": "python3"
  },
  "language_info": {
   "codemirror_mode": {
    "name": "ipython",
    "version": 3
   },
   "file_extension": ".py",
   "mimetype": "text/x-python",
   "name": "python",
   "nbconvert_exporter": "python",
   "pygments_lexer": "ipython3",
   "version": "3.10.12"
  },
  "orig_nbformat": 4
 },
 "nbformat": 4,
 "nbformat_minor": 2
}
